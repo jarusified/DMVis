{
 "cells": [
  {
   "cell_type": "code",
   "execution_count": null,
   "metadata": {},
   "outputs": [
    {
     "ename": "",
     "evalue": "",
     "output_type": "error",
     "traceback": [
      "\u001b[1;31mFailed to start the Kernel. \n",
      "Jupyter server crashed. Unable to connect. \r\n",
      "Error code from Jupyter: 1\n",
      "/import/pa-tools/mentor/calibre/aoi_cal_2022.2_15.10/pkgs/icv_python/asp/lib/python3.8/site-packages/notebook/services/kernels/kernelmanager.py:19: VisibleDeprecationWarning: zmq.eventloop.minitornado is deprecated in pyzmq 14.0 and will be removed.\n",
      "    Install tornado itself to use zmq with the tornado IOLoop.\n",
      "    \n",
      "  from jupyter_client.session import Session\n",
      "\n",
      "[I 17:28:46.568 NotebookApp] Writing notebook server cookie secret to /home/surajk/.local/share/jupyter/runtime/notebook_cookie_secret\n",
      "\n",
      "Traceback (most recent call last):\n",
      "  File \"/import/pa-tools/mentor/calibre/aoi_cal_2022.2_15.10/pkgs/icv_python/asp/bin/jupyter-notebook\", line 8, in <module>\n",
      "\n",
      "    sys.exit(main())\n",
      "  File \"/import/pa-tools/mentor/calibre/aoi_cal_2022.2_15.10/pkgs/icv_python/asp/lib/python3.8/site-packages/jupyter_core/application.py\", line 270, in launch_instance\n",
      "    return super(JupyterApp, cls).launch_instance(argv=argv, **kwargs)\n",
      "  File \"/import/pa-tools/mentor/calibre/aoi_cal_2022.2_15.10/pkgs/icv_python/asp/lib/python3.8/site-packages/traitlets/config/application.py\", line 657, in launch_instance\n",
      "\n",
      "    app.initialize(argv)\n",
      "  File \"</import/pa-tools/mentor/calibre/aoi_cal_2022.2_15.10/pkgs/icv_python/asp/lib/python3.8/site-packages/decorator.py:decorator-gen-7>\", line 2, in initialize\n",
      "\n",
      "  File \"/import/pa-tools/mentor/calibre/aoi_cal_2022.2_15.10/pkgs/icv_python/asp/lib/python3.8/site-packages/traitlets/config/application.py\", line 87, in catch_config_error\n",
      "\n",
      "    return method(app, *args, **kwargs)\n",
      "  File \"/import/pa-tools/mentor/calibre/aoi_cal_2022.2_15.10/pkgs/icv_python/asp/lib/python3.8/site-packages/notebook/notebookapp.py\", line 1630, in initialize\n",
      "\n",
      "    self.init_webapp()\n",
      "  File \"/import/pa-tools/mentor/calibre/aoi_cal_2022.2_15.10/pkgs/icv_python/asp/lib/python3.8/site-packages/notebook/notebookapp.py\", line 1407, in init_webapp\n",
      "\n",
      "    self.http_server.listen(port, self.ip)\n",
      "  File \"/import/pa-tools/mentor/calibre/aoi_cal_2022.2_15.10/pkgs/icv_python/asp/lib/python3.8/site-packages/tornado/tcpserver.py\", line 151, in listen\n",
      "\n",
      "    sockets = bind_sockets(port, address=address)\n",
      "  File \"/import/pa-tools/mentor/calibre/aoi_cal_2022.2_15.10/pkgs/icv_python/asp/lib/python3.8/site-packages/tornado/netutil.py\", line 174, in bind_sockets\n",
      "\n",
      "    sock.bind(sockaddr)\n",
      "OSError: [Errno 99] Cannot assign requested address. \n",
      "View Jupyter <a href='command:jupyter.viewOutput'>log</a> for further details."
     ]
    }
   ],
   "source": [
    "import os"
   ]
  },
  {
   "cell_type": "code",
   "execution_count": null,
   "metadata": {},
   "outputs": [],
   "source": []
  }
 ],
 "metadata": {
  "kernelspec": {
   "display_name": "Python 3.8.10 64-bit",
   "language": "python",
   "name": "python3"
  },
  "language_info": {
   "name": "python",
   "version": "3.8.10"
  },
  "orig_nbformat": 4,
  "vscode": {
   "interpreter": {
    "hash": "49d707683bb20b7a00255bb837ae7cf732f79f8e9436369a58a191e818156f1c"
   }
  }
 },
 "nbformat": 4,
 "nbformat_minor": 2
}
